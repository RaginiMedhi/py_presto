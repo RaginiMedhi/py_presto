{
 "cells": [
  {
   "cell_type": "code",
   "execution_count": 1,
   "metadata": {},
   "outputs": [
    {
     "data": {
      "text/plain": [
       "'/usr/py_presto'"
      ]
     },
     "execution_count": 1,
     "metadata": {},
     "output_type": "execute_result"
    }
   ],
   "source": [
    "import os\n",
    "os.getcwd()\n",
    "path = \"/usr/py_presto/\"\n",
    "os.chdir(path)\n",
    "os.getcwd()"
   ]
  },
  {
   "cell_type": "code",
   "execution_count": 2,
   "metadata": {},
   "outputs": [],
   "source": [
    "import numpy as np\n",
    "import pandas as pd\n",
    "from scipy import io\n",
    "from scipy.sparse import csr_matrix\n",
    "from python_presto import encode_groups, py_presto_wilcoxauc"
   ]
  },
  {
   "cell_type": "code",
   "execution_count": 3,
   "metadata": {},
   "outputs": [],
   "source": [
    "###### for sparse matrix\n",
    "sparsematrix = io.mmread(\"/usr/py_presto/data/sparsematrix.mtx\")\n",
    "var_names = np.genfromtxt('/usr/py_presto/data/rownames.txt', dtype=str)\n",
    "col_names = np.genfromtxt('/usr/py_presto/data/colnames.txt', dtype=str)\n",
    "cell_types = np.genfromtxt('/usr/py_presto/data/celltype.txt', dtype=str)"
   ]
  },
  {
   "cell_type": "code",
   "execution_count": 4,
   "metadata": {},
   "outputs": [],
   "source": [
    "cell_types = pd.Series(cell_types)\n",
    "group_labels, groups_id = encode_groups(cell_types)\n",
    "data = csr_matrix(sparsematrix, dtype=np.float64)\n",
    "features = var_names.copy()"
   ]
  },
  {
   "cell_type": "code",
   "execution_count": 5,
   "metadata": {},
   "outputs": [
    {
     "name": "stdout",
     "output_type": "stream",
     "text": [
      "Calculating stats!\n",
      "Total run time: 0.06363081932067871 seconds\n"
     ]
    }
   ],
   "source": [
    "results = py_presto_wilcoxauc(data, group_labels, features, groups_id)"
   ]
  },
  {
   "cell_type": "code",
   "execution_count": 6,
   "metadata": {},
   "outputs": [
    {
     "data": {
      "text/plain": [
       "<bound method NDFrame.head of    feature  group   avgExpr     logFC  statistic       auc      pval  \\\n",
       "0       G1      0  0.512990  0.004633    11385.0  0.506202  0.853180   \n",
       "1       G2      0  0.523011 -0.003167    11221.0  0.498911  0.974509   \n",
       "2       G3      0  0.479130 -0.037283    10398.0  0.462318  0.259455   \n",
       "3       G4      0  0.505546 -0.017247    10865.0  0.483082  0.612909   \n",
       "4       G5      0  0.505386  0.001541    11301.0  0.502468  0.941626   \n",
       "5       G6      0  0.500868 -0.006504    11137.0  0.495176  0.885667   \n",
       "6       G7      0  0.521288  0.051193    12398.0  0.551243  0.125090   \n",
       "7       G8      0  0.473574 -0.042389    10262.0  0.456271  0.190619   \n",
       "8       G9      0  0.493520  0.022524    11764.0  0.523054  0.490410   \n",
       "9      G10      0  0.516013  0.022495    11808.0  0.525010  0.454317   \n",
       "10     G11      0  0.496858 -0.007100    11115.0  0.494198  0.862589   \n",
       "11     G12      0  0.516404 -0.000731    11161.0  0.496243  0.910953   \n",
       "12     G13      0  0.471696 -0.017818    10850.0  0.482415  0.598960   \n",
       "13     G14      0  0.495196 -0.027080    10659.0  0.473923  0.435279   \n",
       "14     G15      0  0.487252  0.015224    11627.0  0.516962  0.611975   \n",
       "15     G16      0  0.491977  0.002497    11374.0  0.505713  0.864682   \n",
       "16     G17      0  0.485162 -0.012242    11000.0  0.489085  0.744281   \n",
       "17     G18      0  0.499161  0.051074    12285.0  0.546218  0.166571   \n",
       "18     G19      0  0.501854 -0.041409    10332.0  0.459384  0.224155   \n",
       "19     G20      0  0.534128 -0.002488    11194.0  0.497710  0.945865   \n",
       "20      G1      1  0.508357 -0.004633    11106.0  0.493798  0.853180   \n",
       "21      G2      1  0.526177  0.003167    11270.0  0.501089  0.974509   \n",
       "22      G3      1  0.516413  0.037283    12093.0  0.537682  0.259455   \n",
       "23      G4      1  0.522793  0.017247    11626.0  0.516918  0.612909   \n",
       "24      G5      1  0.503846 -0.001541    11190.0  0.497532  0.941626   \n",
       "25      G6      1  0.507372  0.006504    11354.0  0.504824  0.885667   \n",
       "26      G7      1  0.470094 -0.051193    10093.0  0.448757  0.125090   \n",
       "27      G8      1  0.515964  0.042389    12229.0  0.543729  0.190619   \n",
       "28      G9      1  0.470996 -0.022524    10727.0  0.476946  0.490410   \n",
       "29     G10      1  0.493518 -0.022495    10683.0  0.474990  0.454317   \n",
       "30     G11      1  0.503958  0.007100    11376.0  0.505802  0.862589   \n",
       "31     G12      1  0.517135  0.000731    11330.0  0.503757  0.910953   \n",
       "32     G13      1  0.489514  0.017818    11641.0  0.517585  0.598960   \n",
       "33     G14      1  0.522277  0.027080    11832.0  0.526077  0.435279   \n",
       "34     G15      1  0.472029 -0.015224    10864.0  0.483038  0.611975   \n",
       "35     G16      1  0.489480 -0.002497    11117.0  0.494287  0.864682   \n",
       "36     G17      1  0.497405  0.012242    11491.0  0.510915  0.744281   \n",
       "37     G18      1  0.448087 -0.051074    10206.0  0.453782  0.166571   \n",
       "38     G19      1  0.543263  0.041409    12159.0  0.540616  0.224155   \n",
       "39     G20      1  0.536616  0.002488    11297.0  0.502290  0.945865   \n",
       "\n",
       "        padj  pct_in  pct_out  \n",
       "0   0.974509   100.0    100.0  \n",
       "1   0.974509   100.0    100.0  \n",
       "2   0.974509   100.0    100.0  \n",
       "3   0.974509   100.0    100.0  \n",
       "4   0.974509   100.0    100.0  \n",
       "5   0.974509   100.0    100.0  \n",
       "6   0.974509   100.0    100.0  \n",
       "7   0.974509   100.0    100.0  \n",
       "8   0.974509   100.0    100.0  \n",
       "9   0.974509   100.0    100.0  \n",
       "10  0.974509   100.0    100.0  \n",
       "11  0.974509   100.0    100.0  \n",
       "12  0.974509   100.0    100.0  \n",
       "13  0.974509   100.0    100.0  \n",
       "14  0.974509   100.0    100.0  \n",
       "15  0.974509   100.0    100.0  \n",
       "16  0.974509   100.0    100.0  \n",
       "17  0.974509   100.0    100.0  \n",
       "18  0.974509   100.0    100.0  \n",
       "19  0.974509   100.0    100.0  \n",
       "20  0.974509   100.0    100.0  \n",
       "21  0.974509   100.0    100.0  \n",
       "22  0.974509   100.0    100.0  \n",
       "23  0.974509   100.0    100.0  \n",
       "24  0.974509   100.0    100.0  \n",
       "25  0.974509   100.0    100.0  \n",
       "26  0.974509   100.0    100.0  \n",
       "27  0.974509   100.0    100.0  \n",
       "28  0.974509   100.0    100.0  \n",
       "29  0.974509   100.0    100.0  \n",
       "30  0.974509   100.0    100.0  \n",
       "31  0.974509   100.0    100.0  \n",
       "32  0.974509   100.0    100.0  \n",
       "33  0.974509   100.0    100.0  \n",
       "34  0.974509   100.0    100.0  \n",
       "35  0.974509   100.0    100.0  \n",
       "36  0.974509   100.0    100.0  \n",
       "37  0.974509   100.0    100.0  \n",
       "38  0.974509   100.0    100.0  \n",
       "39  0.974509   100.0    100.0  >"
      ]
     },
     "execution_count": 6,
     "metadata": {},
     "output_type": "execute_result"
    }
   ],
   "source": [
    "results.head"
   ]
  }
 ],
 "metadata": {
  "kernelspec": {
   "display_name": "Python 3",
   "language": "python",
   "name": "python3"
  },
  "language_info": {
   "codemirror_mode": {
    "name": "ipython",
    "version": 3
   },
   "file_extension": ".py",
   "mimetype": "text/x-python",
   "name": "python",
   "nbconvert_exporter": "python",
   "pygments_lexer": "ipython3",
   "version": "3.12.2"
  }
 },
 "nbformat": 4,
 "nbformat_minor": 2
}
